{
 "cells": [
  {
   "cell_type": "markdown",
   "metadata": {},
   "source": [
    "# Monte Carlo Analysis on oil prices keeping supply demand balance with    Periodic Review "
   ]
  },
  {
   "cell_type": "markdown",
   "metadata": {},
   "source": [
    "Initialize Libraries "
   ]
  },
  {
   "cell_type": "code",
   "execution_count": 1,
   "metadata": {},
   "outputs": [],
   "source": [
    "import numpy as np\n",
    "import pandas as pd\n",
    "import seaborn as sns\n",
    "import matplotlib.pyplot as plt\n",
    "import operator\n",
    "import GPy\n",
    "import GPyOpt\n",
    "from GPyOpt.methods import BayesianOptimization"
   ]
  },
  {
   "cell_type": "code",
   "execution_count": 2,
   "metadata": {},
   "outputs": [],
   "source": [
    "summary = pd.read_csv('summary.csv')\n",
    "df = pd.read_excel('data.xlsx', 'Data')\n",
    "demand = df[6:]"
   ]
  },
  {
   "cell_type": "code",
   "execution_count": 3,
   "metadata": {},
   "outputs": [
    {
     "data": {
      "text/html": [
       "<div>\n",
       "<style scoped>\n",
       "    .dataframe tbody tr th:only-of-type {\n",
       "        vertical-align: middle;\n",
       "    }\n",
       "\n",
       "    .dataframe tbody tr th {\n",
       "        vertical-align: top;\n",
       "    }\n",
       "\n",
       "    .dataframe thead th {\n",
       "        text-align: right;\n",
       "    }\n",
       "</style>\n",
       "<table border=\"1\" class=\"dataframe\">\n",
       "  <thead>\n",
       "    <tr style=\"text-align: right;\">\n",
       "      <th></th>\n",
       "      <th>Product</th>\n",
       "      <th>1</th>\n",
       "    </tr>\n",
       "  </thead>\n",
       "  <tbody>\n",
       "    <tr>\n",
       "      <td>6</td>\n",
       "      <td>0</td>\n",
       "      <td>135</td>\n",
       "    </tr>\n",
       "    <tr>\n",
       "      <td>7</td>\n",
       "      <td>1</td>\n",
       "      <td>141</td>\n",
       "    </tr>\n",
       "    <tr>\n",
       "      <td>8</td>\n",
       "      <td>2</td>\n",
       "      <td>0</td>\n",
       "    </tr>\n",
       "    <tr>\n",
       "      <td>9</td>\n",
       "      <td>3</td>\n",
       "      <td>165</td>\n",
       "    </tr>\n",
       "    <tr>\n",
       "      <td>10</td>\n",
       "      <td>4</td>\n",
       "      <td>159</td>\n",
       "    </tr>\n",
       "    <tr>\n",
       "      <td>...</td>\n",
       "      <td>...</td>\n",
       "      <td>...</td>\n",
       "    </tr>\n",
       "    <tr>\n",
       "      <td>367</td>\n",
       "      <td>361</td>\n",
       "      <td>189</td>\n",
       "    </tr>\n",
       "    <tr>\n",
       "      <td>368</td>\n",
       "      <td>362</td>\n",
       "      <td>0</td>\n",
       "    </tr>\n",
       "    <tr>\n",
       "      <td>369</td>\n",
       "      <td>363</td>\n",
       "      <td>105</td>\n",
       "    </tr>\n",
       "    <tr>\n",
       "      <td>370</td>\n",
       "      <td>364</td>\n",
       "      <td>0</td>\n",
       "    </tr>\n",
       "    <tr>\n",
       "      <td>371</td>\n",
       "      <td>365</td>\n",
       "      <td>153</td>\n",
       "    </tr>\n",
       "  </tbody>\n",
       "</table>\n",
       "<p>366 rows × 2 columns</p>\n",
       "</div>"
      ],
      "text/plain": [
       "    Product    1\n",
       "6         0  135\n",
       "7         1  141\n",
       "8         2    0\n",
       "9         3  165\n",
       "10        4  159\n",
       "..      ...  ...\n",
       "367     361  189\n",
       "368     362    0\n",
       "369     363  105\n",
       "370     364    0\n",
       "371     365  153\n",
       "\n",
       "[366 rows x 2 columns]"
      ]
     },
     "execution_count": 3,
     "metadata": {},
     "output_type": "execute_result"
    }
   ],
   "source": [
    "demand"
   ]
  },
  {
   "cell_type": "markdown",
   "metadata": {},
   "source": [
    "Visualize the data "
   ]
  },
  {
   "cell_type": "code",
   "execution_count": 4,
   "metadata": {},
   "outputs": [
    {
     "data": {
      "text/plain": [
       "<matplotlib.axes._subplots.AxesSubplot at 0x1a21098710>"
      ]
     },
     "execution_count": 4,
     "metadata": {},
     "output_type": "execute_result"
    },
    {
     "data": {
      "image/png": "[encoded data removed]",
      "text/plain": [
       "<Figure size 864x576 with 1 Axes>"
      ]
     },
     "metadata": {
      "needs_background": "light"
     },
     "output_type": "display_data"
    }
   ],
   "source": [
    "fig, axes = plt.subplots(figsize=(12, 8))\n",
    "demand[1].plot.hist(ax=axes)\n"
   ]
  },
  {
   "cell_type": "markdown",
   "metadata": {},
   "source": [
    "Create a class Product to store relevant product information"
   ]
  },
  {
   "cell_type": "code",
   "execution_count": 5,
   "metadata": {},
   "outputs": [],
   "source": [
    "class Product:\n",
    "    def __init__(self, i):\n",
    "        self.i = i\n",
    "        self.unit_cost = summary['Purchase Cost'].iloc[i - 1]\n",
    "        self.lead_time = summary['Lead Time'].iloc[i - 1]\n",
    "        self.size = summary['Size'].iloc[i - 1]\n",
    "        self.selling_price = summary['Selling Price'].iloc[i - 1]\n",
    "        self.holding_cost = summary['Ch'].iloc[i - 1]\n",
    "        self.ordering_cost = summary['Co'].iloc[i - 1]\n",
    "        self.probability = summary['Probability'].iloc[i - 1]\n",
    "        self.starting_stock = summary['Starting Stock'].iloc[i - 1]\n",
    "        self.demand_lead = summary['Demand_lead'].iloc[i - 1]\n",
    "        self.mean = np.mean([np.log(j) for j in demand[demand[i] > 0][i]])\n",
    "        self.sd = np.std([np.log(j) for j in demand[demand[i] > 0][i]])"
   ]
  },
  {
   "cell_type": "markdown",
   "metadata": {},
   "source": [
    "Function to compute daily demand"
   ]
  },
  {
   "cell_type": "code",
   "execution_count": 6,
   "metadata": {},
   "outputs": [],
   "source": [
    "def daily_demand(mean, sd, probability):\n",
    "    random_num = np.random.uniform(0, 1)\n",
    "    if random_num > probability:\n",
    "        return 0\n",
    "    else:\n",
    "        return np.exp(np.random.normal(mean, sd))"
   ]
  },
  {
   "cell_type": "markdown",
   "metadata": {},
   "source": [
    "Function that computes Monte Carlo Simulation over the product and a hard coded review period"
   ]
  },
  {
   "cell_type": "code",
   "execution_count": 7,
   "metadata": {},
   "outputs": [],
   "source": [
    "def monte_carlo(N, product, review_period=30):\n",
    "    inventory = product.starting_stock\n",
    "    mean = product.mean\n",
    "    sd = product.sd\n",
    "    lead_time = product.lead_time\n",
    "    probability = product.probability\n",
    "\n",
    "    q = 0\n",
    "    stock_out = 0\n",
    "    # dictionary to store all the information\n",
    "    data = {'inv_level': [], 'daily_demand': [], 'units_sold': [], 'units_lost': [], 'orders': []}\n",
    "\n",
    "    for day in range(1, 365):\n",
    "        day_demand = daily_demand(mean, sd, probability)\n",
    "        data['daily_demand'].append(day_demand)\n",
    "\n",
    "        if day % (review_period + lead_time) == 0:\n",
    "            # Restocking day\n",
    "            q = N - inventory\n",
    "            data['orders'].append(q)\n",
    "            inventory += q\n",
    "\n",
    "        if inventory - day_demand >= 0:\n",
    "            data['units_sold'].append(day_demand)\n",
    "            inventory -= day_demand\n",
    "        elif inventory - day_demand < 0:\n",
    "            data['units_sold'].append(inventory)\n",
    "            data['units_lost'].append(day_demand - inventory)\n",
    "            inventory = 0\n",
    "            stock_out += 1\n",
    "\n",
    "        data['inv_level'].append(inventory)\n",
    "\n",
    "    return data"
   ]
  },
  {
   "cell_type": "markdown",
   "metadata": {},
   "source": [
    "Function to compute Profit "
   ]
  },
  {
   "cell_type": "code",
   "execution_count": 8,
   "metadata": {},
   "outputs": [],
   "source": [
    "def calculate_profit(data, product):\n",
    "    unit_cost = product.unit_cost\n",
    "    selling_price = product.selling_price\n",
    "    holding_cost = product.holding_cost\n",
    "    order_cost = product.ordering_cost\n",
    "    size = product.size\n",
    "    days = 365\n",
    "    revenue = sum(data['units_sold']) * selling_price\n",
    "    Co = len(data['orders']) * order_cost\n",
    "    Ch = sum(data['inv_level']) * holding_cost * size * (1 / days)\n",
    "    cost = sum(data['orders']) * unit_cost\n",
    "    profit = revenue - cost - Co - Ch\n",
    "    return profit"
   ]
  },
  {
   "cell_type": "markdown",
   "metadata": {},
   "source": [
    "Perform 1000 Monte Carlo Simulation with replenished stock amount as an input "
   ]
  },
  {
   "cell_type": "code",
   "execution_count": 9,
   "metadata": {},
   "outputs": [],
   "source": [
    "def mc_simulation(product, N, num_simulations=1000):\n",
    "    profit_list = []\n",
    "    orders_lost_list = []\n",
    "    for sim in range(num_simulations):\n",
    "        data = monte_carlo(N, product)\n",
    "        profit = calculate_profit(data, product)\n",
    "        profit_list.append(profit)\n",
    "        total_demand = sum(data['daily_demand'])\n",
    "        unsold_orders = sum(data['units_lost'])\n",
    "        orders_lost_list.append(unsold_orders/total_demand)\n",
    "\n",
    "    return profit_list, orders_lost_list"
   ]
  },
  {
   "cell_type": "code",
   "execution_count": 10,
   "metadata": {},
   "outputs": [
    {
     "data": {
      "image/png": "[encoded data removed]",
      "text/plain": [
       "<Figure size 432x288 with 1 Axes>"
      ]
     },
     "metadata": {
      "needs_background": "light"
     },
     "output_type": "display_data"
    }
   ],
   "source": [
    "p_list, o_list = mc_simulation(Product(1), 3000, 1000)\n",
    "sns.distplot(\n",
    "    p_list,\n",
    "    kde=False\n",
    ")\n",
    "plt.show()"
   ]
  },
  {
   "cell_type": "markdown",
   "metadata": {},
   "source": [
    "### Find the optimum value "
   ]
  },
  {
   "cell_type": "markdown",
   "metadata": {},
   "source": [
    "### Periodic Review"
   ]
  },
  {
   "cell_type": "code",
   "execution_count": 11,
   "metadata": {},
   "outputs": [],
   "source": [
    "product = Product(1)\n",
    "def fn(args):\n",
    "    M = args[0][0]\n",
    "    \n",
    "    p_list, o_list = mc_simulation(product, M, 500)\n",
    "    \n",
    "    print(f' M : {M}, Profit : ${np.mean(p_list):.2f}') \n",
    "    return -np.mean(p_list)"
   ]
  },
  {
   "cell_type": "code",
   "execution_count": 12,
   "metadata": {},
   "outputs": [],
   "source": [
    "def periodic_review(product, low, high, step=50):\n",
    "    m_range = [i for i in range(low, high, step)]\n",
    "    review_dict = {}\n",
    "\n",
    "    for M in m_range:\n",
    "        p_list, o_list = mc_simulation(product, M)\n",
    "        review_dict[M] = (np.mean(p_list), np.quantile(p_list, 0.05), np.quantile(p_list, 0.95), np.std(p_list), np.mean(o_list))\n",
    "\n",
    "    return review_dict"
   ]
  },
  {
   "cell_type": "code",
   "execution_count": 27,
   "metadata": {},
   "outputs": [
    {
     "name": "stdout",
     "output_type": "stream",
     "text": [
      " M : 8002.0, Profit : $80105.71\n",
      " M : 682.0, Profit : $61538.75\n",
      " M : 7221.0, Profit : $97036.08\n",
      " M : 1006.0, Profit : $70814.66\n",
      " M : 283.0, Profit : $49885.11\n",
      " M : 683, Profit : $61574.88\n",
      " M : 7252, Profit : $96999.60\n",
      " M : 7262, Profit : $96730.12\n",
      " M : 4627, Profit : $127816.26\n",
      " M : 4366, Profit : $126167.58\n",
      " M : 4894, Profit : $129518.51\n",
      " M : 5060, Profit : $130241.57\n",
      " M : 5120, Profit : $130319.01\n",
      " M : 5138, Profit : $130148.93\n",
      " M : 5136, Profit : $130139.54\n",
      " M : 5135, Profit : $130638.81\n",
      " M : 5147, Profit : $130159.38\n",
      " M : 5144, Profit : $130324.29\n",
      " M : 5145, Profit : $130289.32\n",
      " M : 5145, Profit : $130047.97\n"
     ]
    }
   ],
   "source": [
    "bounds = [{'name':'M', 'type':'discrete', 'domain': range(10,10000)}]\n",
    "\n",
    "Op = BayesianOptimization(f = fn,\n",
    "                         domain = bounds,\n",
    "                         model_type = 'GP',\n",
    "                         acquisition_type = 'EI',\n",
    "                         exact_feval = False,\n",
    "                         maximize = False,\n",
    "                         normalize_Y = False)\n",
    "\n",
    "Op.run_optimization(max_iter=100)"
   ]
  },
  {
   "cell_type": "code",
   "execution_count": 28,
   "metadata": {},
   "outputs": [
    {
     "data": {
      "text/plain": [
       "array([5135.])"
      ]
     },
     "execution_count": 28,
     "metadata": {},
     "output_type": "execute_result"
    }
   ],
   "source": [
    "Op.x_opt"
   ]
  },
  {
   "cell_type": "code",
   "execution_count": null,
   "metadata": {},
   "outputs": [],
   "source": []
  }
 ],
 "metadata": {
  "kernelspec": {
   "display_name": "Python 3",
   "language": "python",
   "name": "python3"
  },
  "language_info": {
   "codemirror_mode": {
    "name": "ipython",
    "version": 3
   },
   "file_extension": ".py",
   "mimetype": "text/x-python",
   "name": "python",
   "nbconvert_exporter": "python",
   "pygments_lexer": "ipython3",
   "version": "3.7.4"
  }
 },
 "nbformat": 4,
 "nbformat_minor": 4
}
